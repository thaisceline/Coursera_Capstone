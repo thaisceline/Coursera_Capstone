{
    "nbformat_minor": 1, 
    "cells": [
        {
            "source": "# Housing Sales Prices & Venues Data Analysis of Manchester", 
            "cell_type": "markdown", 
            "metadata": {
                "collapsed": true
            }
        }, 
        {
            "source": "### Description and Disscusion of the Background\n\nManchester is within the United Kingdom's second-most populous urban area with a population of 545,500, it has seen considerable investment and regeneration in recent years. Manchester is known for its culture, architecture, sports clubs, transport connections and social impact, which attracts many people of young age. However, as most of these people have just started their careers, they need to find a place where the real estate values are lower but also surrounded by venues of their preference, which can be difficult to find. \nThis projects aims to create an analysis of features of Manchester neighbourhoods, including average property prices, value per square foot and density of venues. This would help people that want to move to Manchester but do not know the area well,so they can make a more informed decision about which neighbourhood to live in.\nConsidering these points, I will create a segmented map and information charts including housing prices and each area will be clustered according to its venue density.", 
            "cell_type": "markdown", 
            "metadata": {}
        }, 
        {
            "source": "### Data Description\n\n1. For the coordinates, I will use the data found on https://www.doogal.co.uk/AdministrativeAreas.php?district=E08000003. From this dataset, we will obtain the **Postcode, names, latitude** and **longitude** of each neighbbourhood. For this project, using the Python library *Pandas*, I will format the data, cleaning and reducing it to what we actually need.\n2. I'll use **Foursquare API** to get the **most common venues in Manchester**, this API provides diverse information about venues within a chosen radius. From this, we will be able to get information about the venues such as the **venue's neighbourhood, name, location** and **category**.\n3. For housing prices, I'll use the Python library *BeautifulSoup* and *Pandas* to extract the table from https://propertydata.co.uk/cities/manchester and save it as a pandas dataframe, this dataset includes the **Postcode, the Average Property Prices** and **Value per Square Foot** for each Manchester's neighbourhood.", 
            "cell_type": "markdown", 
            "metadata": {}
        }, 
        {
            "execution_count": null, 
            "cell_type": "code", 
            "metadata": {}, 
            "outputs": [], 
            "source": ""
        }
    ], 
    "metadata": {
        "kernelspec": {
            "display_name": "Python 3.6", 
            "name": "python3", 
            "language": "python"
        }, 
        "language_info": {
            "mimetype": "text/x-python", 
            "nbconvert_exporter": "python", 
            "version": "3.6.8", 
            "name": "python", 
            "file_extension": ".py", 
            "pygments_lexer": "ipython3", 
            "codemirror_mode": {
                "version": 3, 
                "name": "ipython"
            }
        }
    }, 
    "nbformat": 4
}