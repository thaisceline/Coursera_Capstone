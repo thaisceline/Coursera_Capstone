{
    "nbformat_minor": 1, 
    "cells": [
        {
            "source": "# Housing Sales Prices & Venues Data Analysis of Manchester", 
            "cell_type": "markdown", 
            "metadata": {
                "collapsed": true
            }
        }, 
        {
            "source": "### Description and Disscusion of the Background\nManchester is within the United Kingdom's second-most populous urban area, with a population of 545,500, it has seen considerable investment and regeneration in recent years. Manchester is known for its culture, architecture, sports clubs, transport connections and social impact. I recently moved to Manchester and that is why I chose it, I plan to buy a house and settle here in the future, I'll consider points that a person in their 20's who just started their career would be intersted in, such as number of social venues and lower housing prices.\nConsidering these points, I will create a map and information chart including housing prices and each area will be clustered according to venue density.", 
            "cell_type": "markdown", 
            "metadata": {}
        }, 
        {
            "source": "### Data Description\n\n1. For the coordinates, I will use the data I found on https://www.doogal.co.uk/AdministrativeAreas.php?district=E08000003 which includes the Postcode, Ward, Latitude and Longitude. I'll clean and reduce the data to what we actually need.\n2. I'll use Foursquare API to get the most common venues in Manchester.\n3. For housing prices, I'll extract the table from https://propertydata.co.uk/cities/manchester and save it as a pandas dataframe, the table includes the postcode, average price, and value per square foot.", 
            "cell_type": "markdown", 
            "metadata": {}
        }, 
        {
            "execution_count": null, 
            "cell_type": "code", 
            "metadata": {}, 
            "outputs": [], 
            "source": ""
        }
    ], 
    "metadata": {
        "kernelspec": {
            "display_name": "Python 3.6", 
            "name": "python3", 
            "language": "python"
        }, 
        "language_info": {
            "mimetype": "text/x-python", 
            "nbconvert_exporter": "python", 
            "version": "3.6.8", 
            "name": "python", 
            "file_extension": ".py", 
            "pygments_lexer": "ipython3", 
            "codemirror_mode": {
                "version": 3, 
                "name": "ipython"
            }
        }
    }, 
    "nbformat": 4
}